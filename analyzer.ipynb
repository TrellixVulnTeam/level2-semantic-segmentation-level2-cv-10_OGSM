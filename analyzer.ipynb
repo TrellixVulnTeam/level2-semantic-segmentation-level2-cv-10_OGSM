{
 "cells": [
  {
   "cell_type": "code",
   "execution_count": 1,
   "id": "94f8629e-102a-43c8-830d-df5b16363421",
   "metadata": {},
   "outputs": [],
   "source": [
    "import pandas as pd\n",
    "import numpy as np\n",
    "import matplotlib.pyplot as plt\n",
    "import torch\n",
    "from tabulate import tabulate\n",
    "from pycocotools.coco import COCO\n",
    "import cv2\n",
    "import os\n",
    "import os.path as osp\n",
    "import json\n",
    "from typing import List\n",
    "\n",
    "import eda_utils as eu\n",
    "\n"
   ]
  },
  {
   "cell_type": "code",
   "execution_count": 32,
   "id": "0b1e5437-305d-487c-a9cb-1d3eb15ccaa6",
   "metadata": {},
   "outputs": [],
   "source": [
    "class Analyzer:\n",
    "    def __init__(self, json_path, data_dir='../data'):\n",
    "        self.data_dir = data_dir\n",
    "        self.json_path = json_path\n",
    "        \n",
    "        self.data_json = eu.load_json(json_path)\n",
    "        self.categories = [{'id':0, 'name':'Background'}] + self.data_json['categories']\n",
    "        self.annotations = self.data_json['annotations']\n",
    "        self.images = self.data_json['images']\n",
    "        \n",
    "        self.coco = COCO(json_path)\n",
    "        \n",
    "    # COCO Operations\n",
    "    def getImgInfo(self, img_id):\n",
    "        return self.coco.loadImgs(img_id)[0]\n",
    "    \n",
    "    \n",
    "    def getImgInfos(self, img_ids: List[int]):\n",
    "        return self.coco.loadImgs(img_ids)\n",
    "    \n",
    "    \n",
    "    def getAnnIds(self, img_id):\n",
    "        return self.coco.getAnnIds(img_id)\n",
    "    \n",
    "    \n",
    "    def getAnns(self, img_id):\n",
    "        ann_ids = self.getAnnIds(img_id)\n",
    "        return self.coco.loadAnns(ann_ids)\n",
    "    \n",
    "    \n",
    "    # utils\n",
    "    def cat2catId(self, cat_name):\n",
    "        return [cat['id'] for cat in self.categories if cat['name'] == cat_name][0]\n",
    "    \n",
    "    \n",
    "    def catId2cat(self, catId):\n",
    "        return [cat['name'] for cat in self.categories if cat['id'] == catId][0]\n",
    "    \n",
    "    \n",
    "    def getAnnsByCat(self, cat):\n",
    "        if type(cat) == str:\n",
    "            cat = self.cat2catId(cat)\n",
    "            \n",
    "        return [ann for ann in self.annotations if ann['category_id'] == cat]\n",
    "    \n",
    "    \n",
    "    # EDA - Distributions\n",
    "    def num_anns_per_cat\n",
    "    \n",
    "    def show_imgs(self, img_ids: List[int], mask=True):\n",
    "        print(img_ids)\n"
   ]
  },
  {
   "cell_type": "code",
   "execution_count": 33,
   "id": "4783c3b3-2a32-4bae-bf7f-6a574c3be05a",
   "metadata": {},
   "outputs": [
    {
     "name": "stdout",
     "output_type": "stream",
     "text": [
      "loading annotations into memory...\n",
      "Done (t=3.66s)\n",
      "creating index...\n",
      "index created!\n"
     ]
    }
   ],
   "source": [
    "analyzer = Analyzer(json_path='../data/train_new.json')"
   ]
  },
  {
   "cell_type": "code",
   "execution_count": null,
   "id": "00df943f-000d-42b2-9267-94cb886367e6",
   "metadata": {},
   "outputs": [],
   "source": [
    "analyzer"
   ]
  }
 ],
 "metadata": {
  "kernelspec": {
   "display_name": "Python 3 (ipykernel)",
   "language": "python",
   "name": "python3"
  },
  "language_info": {
   "codemirror_mode": {
    "name": "ipython",
    "version": 3
   },
   "file_extension": ".py",
   "mimetype": "text/x-python",
   "name": "python",
   "nbconvert_exporter": "python",
   "pygments_lexer": "ipython3",
   "version": "3.8.5"
  }
 },
 "nbformat": 4,
 "nbformat_minor": 5
}
